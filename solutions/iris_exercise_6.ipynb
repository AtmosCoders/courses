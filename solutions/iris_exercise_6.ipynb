{
    "metadata": {
        "name": ""
    },
    "nbformat_minor": 0,
    "nbformat": 3,
    "worksheets": [
        {
            "metadata": {},
            "cells": [
                {
                    "metadata": {},
                    "outputs": [],
                    "collapsed": false,
                    "input": [
                        "import iris\n",
                        "import iris.plot as iplt\n",
                        "import iris.quickplot as qplt\n",
                        "import matplotlib.pyplot as plt\n",
                        "\n",
                        "cube = iris.load_cube(iris.sample_data_path('A1B_north_america.nc'))\n",
                        "print cube.summary(True)"
                    ],
                    "language": "python",
                    "cell_type": "code"
                },
                {
                    "metadata": {},
                    "source": [
                        "**Exercise 6:** Use the a1b sample data ('A1B_north_america.nc'), with appropriate slicing, to produce the following:\n",
                        "\n",
                        "1\\. a **contour** plot of *longitude* vs *time*"
                    ],
                    "cell_type": "markdown"
                },
                {
                    "metadata": {},
                    "outputs": [],
                    "collapsed": false,
                    "input": [
                        "qplt.contour(cube[:, 0])\n",
                        "plt.show()"
                    ],
                    "language": "python",
                    "cell_type": "code"
                },
                {
                    "metadata": {},
                    "source": [
                        "2\\. a **contourf** map (of the first timestep) on a LambertConformal projection (with coastlines)"
                    ],
                    "cell_type": "markdown"
                },
                {
                    "metadata": {},
                    "outputs": [],
                    "collapsed": false,
                    "input": [
                        "import cartopy.crs as ccrs\n",
                        "ax = plt.axes(projection=ccrs.LambertConformal())\n",
                        "ax.coastlines()\n",
                        "iplt.contourf(cube[0])"
                    ],
                    "language": "python",
                    "cell_type": "code"
                },
                {
                    "metadata": {},
                    "source": [
                        "3\\. a block plot (**pcolormesh**) map (of the first timestep) in its native projection  (with coastlines)"
                    ],
                    "cell_type": "markdown"
                },
                {
                    "metadata": {},
                    "outputs": [],
                    "collapsed": false,
                    "input": [
                        "iplt.pcolormesh(cube[0])\n",
                        "plt.gca().coastlines()\n",
                        "plt.show()"
                    ],
                    "language": "python",
                    "cell_type": "code"
                },
                {
                    "metadata": {},
                    "source": [
                        "4\\. a line **plot** showing *forecast_period* vs *air_temperature* for the first latitude and longitude points (hint: plot accepts two arguments for the x and y axes)"
                    ],
                    "cell_type": "markdown"
                },
                {
                    "metadata": {},
                    "outputs": [],
                    "collapsed": false,
                    "input": [
                        "series = cube[:, 0, 0]\n",
                        "qplt.plot(series.coord('forecast_period'), series)\n",
                        "plt.show()"
                    ],
                    "language": "python",
                    "cell_type": "code"
                },
                {
                    "metadata": {},
                    "source": [
                        "5\\. a **scatter** plot showing *longitude* vs *air_temperature* for the first time and latitude points"
                    ],
                    "cell_type": "markdown"
                },
                {
                    "metadata": {},
                    "outputs": [],
                    "collapsed": false,
                    "input": [
                        "lon_slice = cube[0, 20, :]\n",
                        "qplt.scatter(lon_slice.coord('longitude'), lon_slice)\n",
                        "plt.show()"
                    ],
                    "language": "python",
                    "cell_type": "code"
                }
            ]
        }
    ]
}