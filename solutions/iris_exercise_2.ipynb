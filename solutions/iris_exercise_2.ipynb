{
    "metadata": {
        "name": ""
    },
    "nbformat_minor": 0,
    "nbformat": 3,
    "worksheets": [
        {
            "metadata": {},
            "cells": [
                {
                    "metadata": {},
                    "cell_type": "markdown",
                    "source": [
                        "**Exercise 2:**\n",
                        "Print the result of ``iris.sample_data_path('uk_hires.pp')`` to verify that it returns a string pointing to a file on your system. Use this string directly in the call to ``iris.load`` and confirm the result is the same as in the previous example e.g.:\n",
                        "\n",
                        "    print iris.load('/path/to/iris/sampledata/uk_hires.pp', 'air_potential_temperature')"
                    ]
                },
                {
                    "metadata": {},
                    "cell_type": "markdown",
                    "source": [
                        "**Exercise 2 continued:** Read in the files found at ``iris.sample_data_path('GloSea4', 'ensemble_010.pp')`` and ``iris.sample_data_path('GloSea4', 'ensemble_011.pp')`` using a single load call. Do this by:\n",
                        "\n",
                        "1\\. Providing a list of the two filenames."
                    ]
                },
                {
                    "metadata": {},
                    "cell_type": "code",
                    "outputs": [],
                    "input": [
                        "import iris\n",
                        "print iris.load([iris.sample_data_path('GloSea4', 'ensemble_010.pp'),\n",
                        "                 iris.sample_data_path('GloSea4', 'ensemble_011.pp')])"
                    ],
                    "language": "python",
                    "collapsed": false
                },
                {
                    "metadata": {},
                    "cell_type": "markdown",
                    "source": [
                        "2\\. Providing a suitable glob pattern."
                    ]
                },
                {
                    "metadata": {},
                    "cell_type": "code",
                    "outputs": [],
                    "input": [
                        "print iris.load(iris.sample_data_path('GloSea4', 'ensemble_01[12].pp'))"
                    ],
                    "language": "python",
                    "collapsed": false
                }
            ]
        }
    ]
}