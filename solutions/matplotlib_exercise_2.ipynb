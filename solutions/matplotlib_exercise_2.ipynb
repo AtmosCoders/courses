{
    "nbformat_minor": 0,
    "nbformat": 3,
    "worksheets": [
        {
            "metadata": {},
            "cells": [
                {
                    "source": [
                        "Previous example:\n",
                        "\n",
                        "    ax = plt.axes()\n",
                        "    line1, = ax.plot([0, 1, 2, 1.5], [3, 1, 2, 4])\n",
                        "    plt.show()"
                    ],
                    "cell_type": "markdown",
                    "metadata": {}
                },
                {
                    "source": [
                        "**Exercise 2:** Modify the previous example to produce 3 different figures which control the limits of the axes by:\n",
                        "\n",
                        " 1\\. Manually setting the x and y limits to $[0.5, 2]$ and $[1, 5]$ respectively."
                    ],
                    "cell_type": "markdown",
                    "metadata": {}
                },
                {
                    "input": [
                        "ax = plt.axes()\n",
                        "line1, = ax.plot([0, 1, 2, 1.5], [3, 1, 2, 4])\n",
                        "ax.set_xlim(0.5, 2)\n",
                        "ax.set_ylim(1, 5)\n",
                        "plt.show()"
                    ],
                    "cell_type": "code",
                    "collapsed": false,
                    "language": "python",
                    "metadata": {},
                    "outputs": []
                },
                {
                    "source": [
                        "2\\. Defining a margin such that there is 10% whitespace inside the axes around the drawn line (Hint: numbers to margins are normalised such that 0% is 0.0 and 100% is 1.0)."
                    ],
                    "cell_type": "markdown",
                    "metadata": {}
                },
                {
                    "input": [
                        "ax = plt.axes()\n",
                        "line1, = ax.plot([0, 1, 2, 1.5], [3, 1, 2, 4])\n",
                        "ax.margins(0.1)\n",
                        "plt.show()"
                    ],
                    "cell_type": "code",
                    "collapsed": false,
                    "language": "python",
                    "metadata": {},
                    "outputs": []
                },
                {
                    "source": [
                        "3\\. Setting a 10% margin on the axes with the lower y limit set to 0. (Note: order is important here)"
                    ],
                    "cell_type": "markdown",
                    "metadata": {}
                },
                {
                    "input": [
                        "ax = plt.axes()\n",
                        "line1, = ax.plot([0, 1, 2, 1.5], [3, 1, 2, 4])\n",
                        "ax.margins(0.1)\n",
                        "ax.set_ylim(0)\n",
                        "plt.show()"
                    ],
                    "cell_type": "code",
                    "collapsed": false,
                    "language": "python",
                    "metadata": {},
                    "outputs": []
                }
            ]
        }
    ],
    "metadata": {
        "name": ""
    }
}