{
    "worksheets": [
        {
            "cells": [
                {
                    "source": [
                        "Previous example:\n",
                        "\n",
                        "    ax = plt.axes()\n",
                        "    line1, = ax.plot([0, 1, 2, 1.5], [3, 1, 2, 4])\n",
                        "    plt.show()"
                    ],
                    "metadata": {},
                    "cell_type": "markdown"
                },
                {
                    "source": [
                        "**Exercise 2:** Modify the previous example to produce 3 different figures which control the limits of the axes by:\n",
                        "\n",
                        " 1\\. Manually setting the x and y limits to $[0.5, 2]$ and $[1, 5]$ respectively."
                    ],
                    "metadata": {},
                    "cell_type": "markdown"
                },
                {
                    "outputs": [],
                    "cell_type": "code",
                    "collapsed": false,
                    "input": [
                        "ax = plt.axes()\n",
                        "line1, = ax.plot([0, 1, 2, 1.5], [3, 1, 2, 4])\n",
                        "ax.set_xlim(0.5, 2)\n",
                        "ax.set_ylim(1, 5)\n",
                        "plt.show()"
                    ],
                    "language": "python",
                    "metadata": {}
                },
                {
                    "source": [
                        "2\\. Defining a margin such that there is 10% whitespace inside the axes around the drawn line (Hint: numbers to margins are normalised such that 0% is 0.0 and 100% is 1.0)."
                    ],
                    "metadata": {},
                    "cell_type": "markdown"
                },
                {
                    "outputs": [],
                    "cell_type": "code",
                    "collapsed": false,
                    "input": [
                        "ax = plt.axes()\n",
                        "line1, = ax.plot([0, 1, 2, 1.5], [3, 1, 2, 4])\n",
                        "ax.margins(0.1)\n",
                        "plt.show()"
                    ],
                    "language": "python",
                    "metadata": {}
                },
                {
                    "source": [
                        "3\\. Setting a 10% margin on the axes with the lower y limit set to 0. (Note: order is important here)"
                    ],
                    "metadata": {},
                    "cell_type": "markdown"
                },
                {
                    "outputs": [],
                    "cell_type": "code",
                    "collapsed": false,
                    "input": [
                        "ax = plt.axes()\n",
                        "line1, = ax.plot([0, 1, 2, 1.5], [3, 1, 2, 4])\n",
                        "ax.margins(0.1)\n",
                        "ax.set_ylim(0)\n",
                        "plt.show()"
                    ],
                    "language": "python",
                    "metadata": {}
                }
            ],
            "metadata": {}
        }
    ],
    "nbformat": 3,
    "metadata": {
        "name": ""
    },
    "nbformat_minor": 0
}