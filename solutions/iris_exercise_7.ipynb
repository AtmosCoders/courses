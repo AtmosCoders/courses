{
    "worksheets": [
        {
            "cells": [
                {
                    "cell_type": "markdown",
                    "metadata": {},
                    "source": [
                        "# Graduation exercise\n",
                        "\n",
                        "1\\. Load 'A1B_north_america.nc' from the iris sample data"
                    ]
                },
                {
                    "input": [
                        "import iris\n",
                        "filename = iris.sample_data_path(\"A1B_north_america.nc\")\n",
                        "cube = iris.load_cube(filename)\n",
                        "print cube"
                    ],
                    "outputs": [],
                    "collapsed": false,
                    "cell_type": "code",
                    "metadata": {},
                    "language": "python"
                },
                {
                    "cell_type": "markdown",
                    "metadata": {},
                    "source": [
                        "2\\. Extract just data from the year 1980 and beyond from the loaded cube"
                    ]
                },
                {
                    "input": [
                        "tcoord = cube.coord('time')\n",
                        "def since_1980(cell):\n",
                        "    return tcoord.units.num2date(cell.point).year >= 1980\n",
                        "\n",
                        "tcon = iris.Constraint(time=since_1980)\n",
                        "cube = cube.extract(tcon)"
                    ],
                    "outputs": [],
                    "collapsed": false,
                    "cell_type": "code",
                    "metadata": {},
                    "language": "python"
                },
                {
                    "input": [
                        "tcoord = cube.coord('time')\n",
                        "\n",
                        "print tcoord.units.num2date(tcoord.points.min())\n",
                        "print tcoord.units.num2date(tcoord.points.max())"
                    ],
                    "outputs": [],
                    "collapsed": false,
                    "cell_type": "code",
                    "metadata": {},
                    "language": "python"
                },
                {
                    "cell_type": "markdown",
                    "metadata": {},
                    "source": [
                        "3\\. Define a function which takes a coordinate and a single time point as arguments, and returns the decade. For example, your function should return 2010 for the following:\n",
                        "\n",
                        "       time = iris.coords.DimCoord([10], 'time', units='days since 2018-01-01')\n",
                        "       print your_decade_function(time, time.points[0])"
                    ]
                },
                {
                    "input": [
                        "def get_decade(coord, point):\n",
                        "    year = coord.units.num2date(point).year\n",
                        "    return (year/10)*10\n",
                        "time = iris.coords.DimCoord([10], 'time', units='days since 2018-01-01')\n",
                        "print get_decade(time, time.points[0])"
                    ],
                    "outputs": [],
                    "collapsed": false,
                    "cell_type": "code",
                    "metadata": {},
                    "language": "python"
                },
                {
                    "cell_type": "markdown",
                    "metadata": {},
                    "source": [
                        "4\\. Add a \"decade\" coordinate to the loaded cube using your function and the coord categorisation module"
                    ]
                },
                {
                    "input": [
                        "import iris.coord_categorisation as coord_cat\n",
                        "coord_cat.add_categorised_coord(cube, 'decade', 'time', get_decade)\n",
                        "print cube.coord('decade')"
                    ],
                    "outputs": [],
                    "collapsed": false,
                    "cell_type": "code",
                    "metadata": {},
                    "language": "python"
                },
                {
                    "cell_type": "markdown",
                    "metadata": {},
                    "source": [
                        "5\\. Calculate the decadal means cube for this scenario"
                    ]
                },
                {
                    "input": [
                        "import iris.analysis\n",
                        "cube = cube.aggregated_by('decade', iris.analysis.MEAN)\n",
                        "print cube"
                    ],
                    "outputs": [],
                    "collapsed": false,
                    "cell_type": "code",
                    "metadata": {},
                    "language": "python"
                },
                {
                    "cell_type": "markdown",
                    "metadata": {},
                    "source": [
                        "6\\. Create a figure with 3 rows and 4 columns displaying the decadal means, with the decade displayed prominently in each axes' title"
                    ]
                },
                {
                    "input": [
                        "import matplotlib.pyplot as plt\n",
                        "import iris.plot as iplt\n",
                        "\n",
                        "plt.figure(figsize=(12, 6))\n",
                        "\n",
                        "plt.suptitle('Decadal means for the A1B scenario')\n",
                        "for i, decade_cube in enumerate(cube.slices(['latitude', 'longitude'])):\n",
                        "    plt.subplot(3, 4, i+1)\n",
                        "    iplt.contourf(decade_cube, 20)\n",
                        "    plt.title('{}'.format(decade_cube.coord('decade').points[0]))\n",
                        "    plt.gca().coastlines()\n",
                        "plt.show()"
                    ],
                    "outputs": [],
                    "collapsed": false,
                    "cell_type": "code",
                    "metadata": {},
                    "language": "python"
                }
            ],
            "metadata": {}
        }
    ],
    "metadata": {
        "name": "iris_exercise_7"
    },
    "nbformat_minor": 0,
    "nbformat": 3
}