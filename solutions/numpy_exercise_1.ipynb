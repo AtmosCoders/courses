{
    "nbformat": 3,
    "nbformat_minor": 0,
    "worksheets": [
        {
            "cells": [
                {
                    "cell_type": "markdown",
                    "source": [
                        "## Numpy exercise 1\n",
                        "\n",
                        "Use ``np.arange`` and ``reshape`` to create the array\n",
                        "\n",
                        "    A = [[1 2 3 4]\n",
                        "         [5 6 7 8]]"
                    ],
                    "metadata": {}
                },
                {
                    "collapsed": false,
                    "cell_type": "code",
                    "outputs": [],
                    "input": [
                        "import numpy as np\n",
                        "A = np.arange(1, 9).reshape(2, -1)\n",
                        "print A"
                    ],
                    "language": "python",
                    "metadata": {}
                },
                {
                    "cell_type": "markdown",
                    "source": [
                        "\n",
                        "Use ``np.array`` to create the array\n",
                        "\n",
                        "    B = [1 2]"
                    ],
                    "metadata": {}
                },
                {
                    "collapsed": false,
                    "cell_type": "code",
                    "outputs": [],
                    "input": [
                        "B = np.array([1, 2])\n",
                        "print B"
                    ],
                    "language": "python",
                    "metadata": {}
                },
                {
                    "cell_type": "markdown",
                    "source": [
                        "Use broadcasting to add ``B`` to each **column** of ``A`` to create the final array\n",
                        "\n",
                        "    A + B = [[2  3  4  5]\n",
                        "             [7  8  9 10]\n",
                        "\n",
                        "Hint: what shape does ``B`` have to be changed to?"
                    ],
                    "metadata": {}
                },
                {
                    "collapsed": false,
                    "cell_type": "code",
                    "outputs": [],
                    "input": [
                        "print A + B[:, np.newaxis]"
                    ],
                    "language": "python",
                    "metadata": {}
                }
            ],
            "metadata": {}
        }
    ],
    "metadata": {
        "name": ""
    }
}