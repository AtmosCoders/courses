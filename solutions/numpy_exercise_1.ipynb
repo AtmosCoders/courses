{
    "worksheets": [
        {
            "metadata": {},
            "cells": [
                {
                    "cell_type": "markdown",
                    "metadata": {},
                    "source": [
                        "## Exercise 1\n",
                        "\n",
                        "Use ``np.arange`` and ``reshape`` to create the array\n",
                        "\n",
                        "    A = [[1 2 3 4]\n",
                        "         [5 6 7 8]]"
                    ]
                },
                {
                    "collapsed": false,
                    "outputs": [
                        {
                            "text": [
                                "[[1 2 3 4]\n",
                                " [5 6 7 8]]\n"
                            ],
                            "stream": "stdout",
                            "output_type": "stream"
                        }
                    ],
                    "metadata": {},
                    "input": [
                        "import numpy as np\n",
                        "A = np.arange(1, 9).reshape(2, -1)\n",
                        "print A"
                    ],
                    "language": "python",
                    "prompt_number": 1,
                    "cell_type": "code"
                },
                {
                    "cell_type": "markdown",
                    "metadata": {},
                    "source": [
                        "\n",
                        "Use ``np.array`` to create the array\n",
                        "\n",
                        "    B = [1 2]"
                    ]
                },
                {
                    "collapsed": false,
                    "outputs": [
                        {
                            "text": [
                                "[1 2]\n"
                            ],
                            "stream": "stdout",
                            "output_type": "stream"
                        }
                    ],
                    "metadata": {},
                    "input": [
                        "B = np.array([1, 2])\n",
                        "print B"
                    ],
                    "language": "python",
                    "prompt_number": 2,
                    "cell_type": "code"
                },
                {
                    "cell_type": "markdown",
                    "metadata": {},
                    "source": [
                        "Use broadcasting to add ``B`` to ``A`` to create the final array\n",
                        "\n",
                        "    A + B = [[2  3  4  5]\n",
                        "             [7  8  9 10]\n",
                        "\n",
                        "Hint: what shape does ``B`` have to be changed to?"
                    ]
                },
                {
                    "collapsed": false,
                    "outputs": [
                        {
                            "text": [
                                "[[ 2  3  4  5]\n",
                                " [ 7  8  9 10]]\n"
                            ],
                            "stream": "stdout",
                            "output_type": "stream"
                        }
                    ],
                    "metadata": {},
                    "input": [
                        "print A + B.reshape(2, 1)"
                    ],
                    "language": "python",
                    "prompt_number": 3,
                    "cell_type": "code"
                }
            ]
        }
    ],
    "nbformat_minor": 0,
    "metadata": {
        "signature": "sha256:848ef38126532012d51f85fda6138dfe097a4c6c37850c846063ebee9d3928bb",
        "name": ""
    },
    "nbformat": 3
}