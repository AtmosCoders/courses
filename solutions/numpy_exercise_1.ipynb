{
    "worksheets": [
        {
            "cells": [
                {
                    "source": [
                        "## Numpy exercise 1\n",
                        "\n",
                        "Use ``np.arange`` and ``reshape`` to create the array\n",
                        "\n",
                        "    A = [[1 2 3 4]\n",
                        "         [5 6 7 8]]"
                    ],
                    "metadata": {},
                    "cell_type": "markdown"
                },
                {
                    "cell_type": "code",
                    "input": [
                        "import numpy as np\n",
                        "A = np.arange(1, 9).reshape(2, -1)\n",
                        "print A"
                    ],
                    "metadata": {},
                    "outputs": [],
                    "collapsed": false,
                    "language": "python"
                },
                {
                    "source": [
                        "\n",
                        "Use ``np.array`` to create the array\n",
                        "\n",
                        "    B = [1 2]"
                    ],
                    "metadata": {},
                    "cell_type": "markdown"
                },
                {
                    "cell_type": "code",
                    "input": [
                        "B = np.array([1, 2])\n",
                        "print B"
                    ],
                    "metadata": {},
                    "outputs": [],
                    "collapsed": false,
                    "language": "python"
                },
                {
                    "source": [
                        "Use broadcasting to add ``B`` to each **column** of ``A`` to create the final array\n",
                        "\n",
                        "    A + B = [[2  3  4  5]\n",
                        "             [7  8  9 10]\n",
                        "\n",
                        "Hint: what shape does ``B`` have to be changed to?"
                    ],
                    "metadata": {},
                    "cell_type": "markdown"
                },
                {
                    "cell_type": "code",
                    "input": [
                        "print A + B[:, np.newaxis]"
                    ],
                    "metadata": {},
                    "outputs": [],
                    "collapsed": false,
                    "language": "python"
                }
            ],
            "metadata": {}
        }
    ],
    "nbformat": 3,
    "nbformat_minor": 0,
    "metadata": {
        "name": ""
    }
}