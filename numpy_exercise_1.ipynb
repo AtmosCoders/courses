{
    "metadata": {
        "name": ""
    },
    "nbformat": 3,
    "worksheets": [
        {
            "cells": [
                {
                    "metadata": {},
                    "source": [
                        "## Numpy exercise 1\n",
                        "\n",
                        "Use ``np.arange`` and ``reshape`` to create the array\n",
                        "\n",
                        "    A = [[1 2 3 4]\n",
                        "         [5 6 7 8]]"
                    ],
                    "cell_type": "markdown"
                },
                {
                    "outputs": [],
                    "metadata": {},
                    "collapsed": false,
                    "cell_type": "code",
                    "input": [
                        "import numpy as np\n",
                        "A = np.arange(1, 9).reshape(2, -1)\n",
                        "print A"
                    ],
                    "language": "python"
                },
                {
                    "metadata": {},
                    "source": [
                        "\n",
                        "Use ``np.array`` to create the array\n",
                        "\n",
                        "    B = [1 2]"
                    ],
                    "cell_type": "markdown"
                },
                {
                    "outputs": [],
                    "metadata": {},
                    "collapsed": false,
                    "cell_type": "code",
                    "input": [
                        "B = np.array([1, 2])\n",
                        "print B"
                    ],
                    "language": "python"
                },
                {
                    "metadata": {},
                    "source": [
                        "Use broadcasting to add ``B`` to each **column** of ``A`` to create the final array\n",
                        "\n",
                        "    A + B = [[2  3  4  5]\n",
                        "             [7  8  9 10]\n",
                        "\n",
                        "Hint: what shape does ``B`` have to be changed to?"
                    ],
                    "cell_type": "markdown"
                },
                {
                    "outputs": [],
                    "metadata": {},
                    "collapsed": false,
                    "cell_type": "code",
                    "input": [
                        "print A + B[:, np.newaxis]"
                    ],
                    "language": "python"
                }
            ],
            "metadata": {}
        }
    ],
    "nbformat_minor": 0
}