{
 "metadata": {
  "name": ""
 },
 "nbformat": 3,
 "nbformat_minor": 0,
 "worksheets": [
  {
   "cells": [
    {
     "cell_type": "code",
     "collapsed": false,
     "input": [
      "import iris\n",
      "import iris.tests.stock as stock"
     ],
     "language": "python",
     "metadata": {},
     "outputs": [],
     "prompt_number": 33
    },
    {
     "cell_type": "code",
     "collapsed": false,
     "input": [
      "cube = stock.realistic_4d()"
     ],
     "language": "python",
     "metadata": {},
     "outputs": [],
     "prompt_number": 34
    },
    {
     "cell_type": "code",
     "collapsed": false,
     "input": [
      "sub_cubes = (cube[0, 0, ...], cube[1, 0, ...])"
     ],
     "language": "python",
     "metadata": {},
     "outputs": [],
     "prompt_number": 35
    },
    {
     "cell_type": "code",
     "collapsed": false,
     "input": [
      "sub_cubes"
     ],
     "language": "python",
     "metadata": {},
     "outputs": [
      {
       "metadata": {},
       "output_type": "pyout",
       "prompt_number": 36,
       "text": [
        "(<iris 'Cube' of air_potential_temperature / (K) (grid_latitude: 100; grid_longitude: 100)>,\n",
        " <iris 'Cube' of air_potential_temperature / (K) (grid_latitude: 100; grid_longitude: 100)>)"
       ]
      }
     ],
     "prompt_number": 36
    },
    {
     "cell_type": "code",
     "collapsed": false,
     "input": [
      "potential = iris.cube.CubeList(sub_cubes)\n",
      "print potential.merge()"
     ],
     "language": "python",
     "metadata": {},
     "outputs": [
      {
       "output_type": "stream",
       "stream": "stdout",
       "text": [
        "0: air_potential_temperature / (K)     (time: 2; grid_latitude: 100; grid_longitude: 100)\n"
       ]
      }
     ],
     "prompt_number": 37
    },
    {
     "cell_type": "code",
     "collapsed": false,
     "input": [
      "!rm merge_exercise.*.nc"
     ],
     "language": "python",
     "metadata": {},
     "outputs": [],
     "prompt_number": 38
    },
    {
     "cell_type": "code",
     "collapsed": false,
     "input": [
      "potential[0].attributes['History'] = 'unknown'\n",
      "iris.save(potential[0], 'merge_exercise.1.f1.nc')\n",
      "iris.save(potential[1], 'merge_exercise.1.f2.nc')\n",
      "potential[0].attributes.pop('History')"
     ],
     "language": "python",
     "metadata": {},
     "outputs": [
      {
       "metadata": {},
       "output_type": "pyout",
       "prompt_number": 39,
       "text": [
        "'unknown'"
       ]
      }
     ],
     "prompt_number": 39
    },
    {
     "cell_type": "code",
     "collapsed": false,
     "input": [
      "cubes = iris.load('merge_exercise.1.*.nc')\n",
      "print len(cubes)\n",
      "print cubes.describe_merge()\n",
      "cubes[0].attributes.pop('History')\n",
      "print cubes.merge()"
     ],
     "language": "python",
     "metadata": {},
     "outputs": [
      {
       "output_type": "stream",
       "stream": "stdout",
       "text": [
        "2\n",
        "Determining differences between cubes of name: air_potential_temperature\n",
        "attribute keys: History not common to both signaturesNone\n",
        "0: air_potential_temperature / (K)     (time: 2; grid_latitude: 100; grid_longitude: 100)\n"
       ]
      }
     ],
     "prompt_number": 40
    },
    {
     "cell_type": "code",
     "collapsed": false,
     "input": [
      "potential[1].coord('grid_latitude').bounds = None\n",
      "potential[1].coord('grid_longitude').bounds = None\n",
      "iris.save(potential[0], 'merge_exercise.2.f1.nc')\n",
      "iris.save(potential[1], 'merge_exercise.2.f2.nc')\n",
      "potential[1].coord('grid_latitude').bounds = potential[0].coord('grid_latitude').bounds\n",
      "potential[1].coord('grid_longitude').bounds = potential[0].coord('grid_longitude').bounds"
     ],
     "language": "python",
     "metadata": {},
     "outputs": [],
     "prompt_number": 41
    },
    {
     "cell_type": "code",
     "collapsed": false,
     "input": [
      "cubes = iris.load('merge_exercise.2.*.nc')\n",
      "cubes[1].coord('grid_latitude').bounds = cubes[0].coord('grid_latitude').bounds\n",
      "cubes[1].coord('grid_longitude').bounds = cubes[0].coord('grid_longitude').bounds\n",
      "print len(cubes)\n",
      "print cubes.merge()"
     ],
     "language": "python",
     "metadata": {},
     "outputs": [
      {
       "output_type": "stream",
       "stream": "stdout",
       "text": [
        "2\n",
        "0: air_potential_temperature / (K)     (time: 2; grid_latitude: 100; grid_longitude: 100)\n"
       ]
      }
     ],
     "prompt_number": 42
    },
    {
     "cell_type": "code",
     "collapsed": false,
     "input": [
      "c = potential[1].coord('time')\n",
      "print c.units\n",
      "c.convert_units('days since 1970-01-01 00:00:00')\n",
      "iris.save(potential[0], 'merge_exercise.3.f1.nc')\n",
      "iris.save(potential[1], 'merge_exercise.3.f2.nc')\n",
      "c.convert_units('hours since 1970-01-01 00:00:00')"
     ],
     "language": "python",
     "metadata": {},
     "outputs": [
      {
       "output_type": "stream",
       "stream": "stdout",
       "text": [
        "hours since 1970-01-01 00:00:00\n"
       ]
      }
     ],
     "prompt_number": 43
    },
    {
     "cell_type": "code",
     "collapsed": false,
     "input": [
      "import iris\n",
      "reload(iris)"
     ],
     "language": "python",
     "metadata": {},
     "outputs": [
      {
       "metadata": {},
       "output_type": "pyout",
       "prompt_number": 44,
       "text": [
        "<module 'iris' from '/Users/pelson/dev/iris/lib/iris/__init__.pyc'>"
       ]
      }
     ],
     "prompt_number": 44
    },
    {
     "cell_type": "code",
     "collapsed": false,
     "input": [
      "cubes = iris.load('merge_exercise.3.*.nc')\n",
      "cubes[1].coord('time').convert_units(cubes[0].coord('time').units)\n",
      "print len(cubes)\n",
      "print cubes.merge()"
     ],
     "language": "python",
     "metadata": {},
     "outputs": [
      {
       "output_type": "stream",
       "stream": "stdout",
       "text": [
        "2\n",
        "0: air_potential_temperature / (K)     (time: 2; grid_latitude: 100; grid_longitude: 100)\n"
       ]
      }
     ],
     "prompt_number": 49
    },
    {
     "cell_type": "code",
     "collapsed": false,
     "input": [
      "potential[1].data = potential[1].data.astype('float64')\n",
      "iris.save(potential[0], 'merge_exercise.4.f1.nc')\n",
      "iris.save(potential[1], 'merge_exercise.4.f2.nc')\n",
      "potential[1].data = potential[1].data.astype('float32')"
     ],
     "language": "python",
     "metadata": {},
     "outputs": [
      {
       "output_type": "stream",
       "stream": "stdout",
       "text": [
        "float64\n"
       ]
      }
     ],
     "prompt_number": 61
    },
    {
     "cell_type": "code",
     "collapsed": false,
     "input": [
      "cubes = iris.load('merge_exercise.4.*.nc')\n",
      "for cube in cubes:\n",
      "    cube.data = cube.data.astype('float64')\n",
      "print len(cubes)\n",
      "print cubes.merge()"
     ],
     "language": "python",
     "metadata": {},
     "outputs": [
      {
       "output_type": "stream",
       "stream": "stdout",
       "text": [
        "2\n",
        "0: air_potential_temperature / (K)     (time: 2; grid_latitude: 100; grid_longitude: 100)\n"
       ]
      }
     ],
     "prompt_number": 62
    },
    {
     "cell_type": "code",
     "collapsed": false,
     "input": [
      "!rm -rf merge_exercise.5.??.nc\n",
      "potential[0].long_name = 'The first timestep'\n",
      "potential[1].long_name = 'The second timestep'\n",
      "iris.save(potential[0], 'merge_exercise.5.f1.nc')\n",
      "iris.save(potential[1], 'merge_exercise.5.f2.nc')\n",
      "potential[0].long_name = potential[1].long_name = None"
     ],
     "language": "python",
     "metadata": {},
     "outputs": [],
     "prompt_number": 66
    },
    {
     "cell_type": "code",
     "collapsed": false,
     "input": [
      "cubes = iris.load('merge_exercise.5.*.nc')\n",
      "for cube in cubes:\n",
      "    cube.long_name = None\n",
      "print len(cubes)\n",
      "print cubes.merge()"
     ],
     "language": "python",
     "metadata": {},
     "outputs": [
      {
       "output_type": "stream",
       "stream": "stdout",
       "text": [
        "2\n",
        "0: air_potential_temperature / (K)     (time: 2; grid_latitude: 100; grid_longitude: 100)\n"
       ]
      }
     ],
     "prompt_number": 69
    },
    {
     "cell_type": "code",
     "collapsed": false,
     "input": [
      "iris.save(potential[0], 'merge_exercise.6.f1.nc')\n",
      "iris.save(stock.realistic_4d()[1:2, 0, ...], 'merge_exercise.6.f2.nc')"
     ],
     "language": "python",
     "metadata": {},
     "outputs": [],
     "prompt_number": 71
    },
    {
     "cell_type": "code",
     "collapsed": false,
     "input": [
      "cubes = iris.load('merge_exercise.6.??.nc')\n",
      "print len(cubes)\n",
      "cubes[1] = cubes[1][0, ...]\n",
      "for cube in cubes:\n",
      "    print cube.coord('time')\n",
      "    cube.data\n",
      "for coord1, coord2 in zip(cubes[0].coords(), cubes[1].coords()):\n",
      "    print coord1 == coord2, coord1.name()\n",
      "    if not coord1 == coord2:\n",
      "        print `coord1`\n",
      "        print `coord2`\n",
      "        print '---'\n",
      "cubes.describe_merge()\n",
      "print cubes.merge()"
     ],
     "language": "python",
     "metadata": {},
     "outputs": [
      {
       "output_type": "stream",
       "stream": "stdout",
       "text": [
        "2\n",
        "DimCoord([datetime.datetime(2009, 9, 9, 17, 10)], standard_name=u'time', calendar=u'gregorian', var_name='time')\n",
        "DimCoord([datetime.datetime(2009, 9, 9, 17, 20)], standard_name=u'time', calendar=u'gregorian', var_name='time')\n",
        "True grid_latitude\n",
        "True grid_longitude\n",
        "True atmosphere_hybrid_height_coordinate\n",
        "True forecast_period\n",
        "True model_level_number\n",
        "True sigma\n",
        "False time\n",
        "DimCoord(array([ 347921.16666667]), standard_name=u'time', units=Unit('hours since 1970-01-01 00:00:00', calendar='gregorian'), var_name='time')\n",
        "DimCoord(array([ 347921.33333333]), standard_name=u'time', units=Unit('hours since 1970-01-01 00:00:00', calendar='gregorian'), var_name='time')\n",
        "---\n",
        "True surface_altitude\n",
        "True altitude\n",
        "0: air_potential_temperature / (K)     (time: 2; grid_latitude: 100; grid_longitude: 100)\n"
       ]
      }
     ],
     "prompt_number": 84
    },
    {
     "cell_type": "code",
     "collapsed": false,
     "input": [],
     "language": "python",
     "metadata": {},
     "outputs": []
    }
   ],
   "metadata": {}
  }
 ]
}