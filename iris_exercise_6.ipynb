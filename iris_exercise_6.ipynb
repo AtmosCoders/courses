{
    "worksheets": [
        {
            "metadata": {},
            "cells": [
                {
                    "language": "python",
                    "outputs": [],
                    "collapsed": false,
                    "cell_type": "code",
                    "input": [
                        "import iris\n",
                        "import iris.plot as iplt\n",
                        "import iris.quickplot as qplt\n",
                        "import matplotlib.pyplot as plt\n",
                        "\n",
                        "cube = iris.load_cube(iris.sample_data_path('A1B_north_america.nc'))\n",
                        "print cube.summary(True)"
                    ],
                    "metadata": {}
                },
                {
                    "cell_type": "markdown",
                    "metadata": {},
                    "source": [
                        "**Exercise 6:** Use the a1b sample data ('A1B_north_america.nc'), with appropriate slicing, to produce the following:\n",
                        "\n",
                        "1\\. a **contour** plot of *longitude* vs *time*"
                    ]
                },
                {
                    "language": "python",
                    "outputs": [],
                    "collapsed": false,
                    "cell_type": "code",
                    "input": [
                        "qplt.contour(cube[:, 0])\n",
                        "plt.show()"
                    ],
                    "metadata": {}
                },
                {
                    "cell_type": "markdown",
                    "metadata": {},
                    "source": [
                        "2\\. a **contourf** map (of the first timestep) on a LambertConformal projection (with coastlines)"
                    ]
                },
                {
                    "language": "python",
                    "outputs": [],
                    "collapsed": false,
                    "cell_type": "code",
                    "input": [
                        "import cartopy.crs as ccrs\n",
                        "ax = plt.axes(projection=ccrs.LambertConformal())\n",
                        "ax.coastlines()\n",
                        "iplt.contourf(cube[0])"
                    ],
                    "metadata": {}
                },
                {
                    "cell_type": "markdown",
                    "metadata": {},
                    "source": [
                        "3\\. a block plot (**pcolormesh**) map (of the first timestep) in its native projection  (with coastlines)"
                    ]
                },
                {
                    "language": "python",
                    "outputs": [],
                    "collapsed": false,
                    "cell_type": "code",
                    "input": [
                        "iplt.pcolormesh(cube[0])\n",
                        "plt.gca().coastlines()\n",
                        "plt.show()"
                    ],
                    "metadata": {}
                },
                {
                    "cell_type": "markdown",
                    "metadata": {},
                    "source": [
                        "4\\. a line **plot** showing *forecast_period* vs *air_temperature* for the first latitude and longitude points (hint: plot accepts two arguments for the x and y axes)"
                    ]
                },
                {
                    "language": "python",
                    "outputs": [],
                    "collapsed": false,
                    "cell_type": "code",
                    "input": [
                        "series = cube[:, 0, 0]\n",
                        "qplt.plot(series.coord('forecast_period'), series)\n",
                        "plt.show()"
                    ],
                    "metadata": {}
                },
                {
                    "cell_type": "markdown",
                    "metadata": {},
                    "source": [
                        "5\\. a **scatter** plot showing *longitude* vs *air_temperature* for the first time and latitude points"
                    ]
                },
                {
                    "language": "python",
                    "outputs": [],
                    "collapsed": false,
                    "cell_type": "code",
                    "input": [
                        "lon_slice = cube[0, 20, :]\n",
                        "qplt.scatter(lon_slice.coord('longitude'), lon_slice)\n",
                        "plt.show()"
                    ],
                    "metadata": {}
                }
            ]
        }
    ],
    "nbformat": 3,
    "nbformat_minor": 0,
    "metadata": {
        "name": ""
    }
}