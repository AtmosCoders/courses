{
 "metadata": {
  "name": ""
 },
 "nbformat": 3,
 "nbformat_minor": 0,
 "worksheets": [
  {
   "cells": [
    {
     "cell_type": "markdown",
     "metadata": {},
     "source": [
      "# Graduation exercise\n",
      "\n",
      "1\\. Load 'A1B_north_america.nc' from the iris sample data"
     ]
    },
    {
     "cell_type": "code",
     "collapsed": false,
     "input": [
      "import iris\n",
      "\n",
      "cube = iris.load_cube(iris.sample_data_path('A1B_north_america.nc'))\n",
      "print cube"
     ],
     "language": "python",
     "metadata": {},
     "outputs": [
      {
       "output_type": "stream",
       "stream": "stdout",
       "text": [
        "air_temperature / (K)               (time: 240; latitude: 37; longitude: 49)\n",
        "     Dimension coordinates:\n",
        "          time                           x              -              -\n",
        "          latitude                       -              x              -\n",
        "          longitude                      -              -              x\n",
        "     Auxiliary coordinates:\n",
        "          forecast_period                x              -              -\n",
        "     Scalar coordinates:\n",
        "          forecast_reference_time: 1859-09-01 06:00:00\n",
        "          height: 1.5 m\n",
        "     Attributes:\n",
        "          Conventions: CF-1.5\n",
        "          Model scenario: A1B\n",
        "          STASH: m01s03i236\n",
        "          source: Data from Met Office Unified Model 6.05\n",
        "     Cell methods:\n",
        "          mean: time (6 hour)\n"
       ]
      }
     ],
     "prompt_number": 1
    },
    {
     "cell_type": "markdown",
     "metadata": {},
     "source": [
      "2\\. Extract just data from the year 1980 and beyond from the loaded cube"
     ]
    },
    {
     "cell_type": "code",
     "collapsed": false,
     "input": [],
     "language": "python",
     "metadata": {},
     "outputs": []
    },
    {
     "cell_type": "markdown",
     "metadata": {},
     "source": [
      "3\\. Define a function which takes a coordinate and a single time point as arguments, and returns the decade. For example, your function should return 2010 for the following:\n",
      "\n",
      "       time = iris.coords.DimCoord([10], 'time', units='days since 2018-01-01')\n",
      "       print your_decade_function(time, time.points[0])"
     ]
    },
    {
     "cell_type": "code",
     "collapsed": false,
     "input": [],
     "language": "python",
     "metadata": {},
     "outputs": []
    },
    {
     "cell_type": "markdown",
     "metadata": {},
     "source": [
      "4\\. Add a \"decade\" coordinate to the loaded cube using your function and the coord categorisation module"
     ]
    },
    {
     "cell_type": "code",
     "collapsed": false,
     "input": [],
     "language": "python",
     "metadata": {},
     "outputs": []
    },
    {
     "cell_type": "markdown",
     "metadata": {},
     "source": [
      "5\\. Calculate the decadal means cube for this scenario"
     ]
    },
    {
     "cell_type": "code",
     "collapsed": false,
     "input": [],
     "language": "python",
     "metadata": {},
     "outputs": []
    },
    {
     "cell_type": "markdown",
     "metadata": {},
     "source": [
      "6\\. Create a figure with 3 rows and 4 columns displaying the decadal means, with the decade displayed prominently in each axes' title"
     ]
    },
    {
     "cell_type": "code",
     "collapsed": false,
     "input": [],
     "language": "python",
     "metadata": {},
     "outputs": []
    }
   ],
   "metadata": {}
  }
 ]
}