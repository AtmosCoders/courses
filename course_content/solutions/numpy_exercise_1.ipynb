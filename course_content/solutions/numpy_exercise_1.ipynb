{
 "metadata": {
  "name": ""
 },
 "nbformat": 3,
 "nbformat_minor": 0,
 "worksheets": [
  {
   "cells": [
    {
     "cell_type": "markdown",
     "metadata": {},
     "source": [
      "## Numpy exercise 1\n",
      "\n",
      "Use ``np.arange`` and ``reshape`` to create the array\n",
      "\n",
      "    A = [[1 2 3 4]\n",
      "         [5 6 7 8]]"
     ]
    },
    {
     "cell_type": "code",
     "collapsed": false,
     "input": [],
     "language": "python",
     "metadata": {},
     "outputs": []
    },
    {
     "cell_type": "markdown",
     "metadata": {},
     "source": [
      "\n",
      "Use ``np.arange`` to create the array\n",
      "\n",
      "    B = [1 2]"
     ]
    },
    {
     "cell_type": "code",
     "collapsed": false,
     "input": [],
     "language": "python",
     "metadata": {},
     "outputs": []
    },
    {
     "cell_type": "markdown",
     "metadata": {},
     "source": [
      "Use broadcasting to add ``B`` to each **column** of ``A`` to create the final array\n",
      "\n",
      "    A + B = [[2  3  4  5]\n",
      "             [7  8  9 10]\n",
      "\n",
      "Hint: what shape does ``B`` have to be changed to?"
     ]
    },
    {
     "cell_type": "code",
     "collapsed": false,
     "input": [],
     "language": "python",
     "metadata": {},
     "outputs": []
    }
   ],
   "metadata": {}
  }
 ]
}